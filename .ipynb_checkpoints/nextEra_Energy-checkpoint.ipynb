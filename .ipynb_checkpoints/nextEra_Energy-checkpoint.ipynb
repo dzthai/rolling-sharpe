{
 "cells": [
  {
   "cell_type": "code",
   "execution_count": 41,
   "id": "02a0ab3b",
   "metadata": {},
   "outputs": [
    {
     "data": {
      "text/html": [
       "<div>\n",
       "<style scoped>\n",
       "    .dataframe tbody tr th:only-of-type {\n",
       "        vertical-align: middle;\n",
       "    }\n",
       "\n",
       "    .dataframe tbody tr th {\n",
       "        vertical-align: top;\n",
       "    }\n",
       "\n",
       "    .dataframe thead th {\n",
       "        text-align: right;\n",
       "    }\n",
       "</style>\n",
       "<table border=\"1\" class=\"dataframe\">\n",
       "  <thead>\n",
       "    <tr style=\"text-align: right;\">\n",
       "      <th></th>\n",
       "      <th>Close</th>\n",
       "    </tr>\n",
       "    <tr>\n",
       "      <th>Date</th>\n",
       "      <th></th>\n",
       "    </tr>\n",
       "  </thead>\n",
       "  <tbody>\n",
       "    <tr>\n",
       "      <th>2021-02-18 00:00:00-05:00</th>\n",
       "      <td>0.000620</td>\n",
       "    </tr>\n",
       "    <tr>\n",
       "      <th>2021-02-19 00:00:00-05:00</th>\n",
       "      <td>-0.032578</td>\n",
       "    </tr>\n",
       "    <tr>\n",
       "      <th>2021-02-22 00:00:00-05:00</th>\n",
       "      <td>-0.038412</td>\n",
       "    </tr>\n",
       "    <tr>\n",
       "      <th>2021-02-23 00:00:00-05:00</th>\n",
       "      <td>-0.005193</td>\n",
       "    </tr>\n",
       "    <tr>\n",
       "      <th>2021-02-24 00:00:00-05:00</th>\n",
       "      <td>-0.012716</td>\n",
       "    </tr>\n",
       "    <tr>\n",
       "      <th>...</th>\n",
       "      <td>...</td>\n",
       "    </tr>\n",
       "    <tr>\n",
       "      <th>2023-02-10 00:00:00-05:00</th>\n",
       "      <td>0.020063</td>\n",
       "    </tr>\n",
       "    <tr>\n",
       "      <th>2023-02-13 00:00:00-05:00</th>\n",
       "      <td>0.011774</td>\n",
       "    </tr>\n",
       "    <tr>\n",
       "      <th>2023-02-14 00:00:00-05:00</th>\n",
       "      <td>0.005422</td>\n",
       "    </tr>\n",
       "    <tr>\n",
       "      <th>2023-02-15 00:00:00-05:00</th>\n",
       "      <td>0.011969</td>\n",
       "    </tr>\n",
       "    <tr>\n",
       "      <th>2023-02-16 00:00:00-05:00</th>\n",
       "      <td>-0.016246</td>\n",
       "    </tr>\n",
       "  </tbody>\n",
       "</table>\n",
       "<p>504 rows × 1 columns</p>\n",
       "</div>"
      ],
      "text/plain": [
       "                              Close\n",
       "Date                               \n",
       "2021-02-18 00:00:00-05:00  0.000620\n",
       "2021-02-19 00:00:00-05:00 -0.032578\n",
       "2021-02-22 00:00:00-05:00 -0.038412\n",
       "2021-02-23 00:00:00-05:00 -0.005193\n",
       "2021-02-24 00:00:00-05:00 -0.012716\n",
       "...                             ...\n",
       "2023-02-10 00:00:00-05:00  0.020063\n",
       "2023-02-13 00:00:00-05:00  0.011774\n",
       "2023-02-14 00:00:00-05:00  0.005422\n",
       "2023-02-15 00:00:00-05:00  0.011969\n",
       "2023-02-16 00:00:00-05:00 -0.016246\n",
       "\n",
       "[504 rows x 1 columns]"
      ]
     },
     "execution_count": 41,
     "metadata": {},
     "output_type": "execute_result"
    }
   ],
   "source": [
    "import yfinance as yf\n",
    "import matplotlib.pyplot as plt\n",
    "from rolling_sharpe import rolling_sharpe\n",
    "import pandas as pd\n",
    "import numpy as np\n",
    "\n",
    "nee = yf.Ticker('NEE')\n",
    "nee_close = nee.history(period='2y')['Close']\n",
    "nee_returns = nee_close.pct_change().dropna()\n",
    "\n",
    "#getting the thirteen week yield of treasury bonds\n",
    "irx = yf.Ticker('^IRX')\n",
    "thirteen_wk_yield = irx.history(period='2y')['Close'][1:] * 0.01\n",
    "\n",
    "df = pd.DataFrame(nee_returns)\n",
    "df"
   ]
  },
  {
   "cell_type": "code",
   "execution_count": 48,
   "id": "90d6917e",
   "metadata": {},
   "outputs": [
    {
     "data": {
      "text/plain": [
       "-0.7795335904901104"
      ]
     },
     "execution_count": 48,
     "metadata": {},
     "output_type": "execute_result"
    }
   ],
   "source": [
    "meany = np.mean(df['rolling_SR'])\n",
    "meany"
   ]
  },
  {
   "cell_type": "code",
   "execution_count": 51,
   "id": "1d2f91a7",
   "metadata": {},
   "outputs": [
    {
     "data": {
      "text/html": [
       "<div>\n",
       "<style scoped>\n",
       "    .dataframe tbody tr th:only-of-type {\n",
       "        vertical-align: middle;\n",
       "    }\n",
       "\n",
       "    .dataframe tbody tr th {\n",
       "        vertical-align: top;\n",
       "    }\n",
       "\n",
       "    .dataframe thead th {\n",
       "        text-align: right;\n",
       "    }\n",
       "</style>\n",
       "<table border=\"1\" class=\"dataframe\">\n",
       "  <thead>\n",
       "    <tr style=\"text-align: right;\">\n",
       "      <th></th>\n",
       "      <th>Close</th>\n",
       "      <th>rolling_SR</th>\n",
       "    </tr>\n",
       "    <tr>\n",
       "      <th>Date</th>\n",
       "      <th></th>\n",
       "      <th></th>\n",
       "    </tr>\n",
       "  </thead>\n",
       "  <tbody>\n",
       "    <tr>\n",
       "      <th>2021-02-18 00:00:00-05:00</th>\n",
       "      <td>0.000620</td>\n",
       "      <td>0.000000</td>\n",
       "    </tr>\n",
       "    <tr>\n",
       "      <th>2021-02-19 00:00:00-05:00</th>\n",
       "      <td>-0.032578</td>\n",
       "      <td>0.000000</td>\n",
       "    </tr>\n",
       "    <tr>\n",
       "      <th>2021-02-22 00:00:00-05:00</th>\n",
       "      <td>-0.038412</td>\n",
       "      <td>0.000000</td>\n",
       "    </tr>\n",
       "    <tr>\n",
       "      <th>2021-02-23 00:00:00-05:00</th>\n",
       "      <td>-0.005193</td>\n",
       "      <td>0.000000</td>\n",
       "    </tr>\n",
       "    <tr>\n",
       "      <th>2021-02-24 00:00:00-05:00</th>\n",
       "      <td>-0.012716</td>\n",
       "      <td>0.000000</td>\n",
       "    </tr>\n",
       "    <tr>\n",
       "      <th>...</th>\n",
       "      <td>...</td>\n",
       "      <td>...</td>\n",
       "    </tr>\n",
       "    <tr>\n",
       "      <th>2023-02-10 00:00:00-05:00</th>\n",
       "      <td>0.020063</td>\n",
       "      <td>-1.040350</td>\n",
       "    </tr>\n",
       "    <tr>\n",
       "      <th>2023-02-13 00:00:00-05:00</th>\n",
       "      <td>0.011774</td>\n",
       "      <td>-1.036332</td>\n",
       "    </tr>\n",
       "    <tr>\n",
       "      <th>2023-02-14 00:00:00-05:00</th>\n",
       "      <td>0.005422</td>\n",
       "      <td>-1.035589</td>\n",
       "    </tr>\n",
       "    <tr>\n",
       "      <th>2023-02-15 00:00:00-05:00</th>\n",
       "      <td>0.011969</td>\n",
       "      <td>-1.053459</td>\n",
       "    </tr>\n",
       "    <tr>\n",
       "      <th>2023-02-16 00:00:00-05:00</th>\n",
       "      <td>-0.016246</td>\n",
       "      <td>-1.053639</td>\n",
       "    </tr>\n",
       "  </tbody>\n",
       "</table>\n",
       "<p>504 rows × 2 columns</p>\n",
       "</div>"
      ],
      "text/plain": [
       "                              Close  rolling_SR\n",
       "Date                                           \n",
       "2021-02-18 00:00:00-05:00  0.000620    0.000000\n",
       "2021-02-19 00:00:00-05:00 -0.032578    0.000000\n",
       "2021-02-22 00:00:00-05:00 -0.038412    0.000000\n",
       "2021-02-23 00:00:00-05:00 -0.005193    0.000000\n",
       "2021-02-24 00:00:00-05:00 -0.012716    0.000000\n",
       "...                             ...         ...\n",
       "2023-02-10 00:00:00-05:00  0.020063   -1.040350\n",
       "2023-02-13 00:00:00-05:00  0.011774   -1.036332\n",
       "2023-02-14 00:00:00-05:00  0.005422   -1.035589\n",
       "2023-02-15 00:00:00-05:00  0.011969   -1.053459\n",
       "2023-02-16 00:00:00-05:00 -0.016246   -1.053639\n",
       "\n",
       "[504 rows x 2 columns]"
      ]
     },
     "execution_count": 51,
     "metadata": {},
     "output_type": "execute_result"
    }
   ],
   "source": [
    "df"
   ]
  },
  {
   "cell_type": "code",
   "execution_count": 53,
   "id": "61df9997",
   "metadata": {},
   "outputs": [
    {
     "data": {
      "image/png": "[encoded data removed]",
      "text/plain": [
       "<Figure size 720x504 with 1 Axes>"
      ]
     },
     "metadata": {},
     "output_type": "display_data"
    },
    {
     "name": "stdout",
     "output_type": "stream",
     "text": [
      "---------------------------------------------------------------\n",
      "In case you want to check the result data\n",
      "\n",
      "                              Close  rolling_SR\n",
      "Date                                           \n",
      "2023-02-10 00:00:00-05:00  0.020063   -1.040350\n",
      "2023-02-13 00:00:00-05:00  0.011774   -1.036332\n",
      "2023-02-14 00:00:00-05:00  0.005422   -1.035589\n",
      "2023-02-15 00:00:00-05:00  0.011969   -1.053459\n",
      "2023-02-16 00:00:00-05:00 -0.016246   -1.053639\n"
     ]
    }
   ],
   "source": [
    "df['rolling_SR'] = df.Close.rolling(180).apply(lambda x: (x.mean() - 0.02) / x.std(), raw = True)\n",
    "df.fillna(0, inplace = True)\n",
    "df[df['rolling_SR'] < 0].rolling_SR.plot(style='-', lw=3, color='orange', \n",
    "                                         label='Sharpe', figsize = (10,7))\\\n",
    "                                         .axhline(y = 0, color = \"blue\", lw = 3,\n",
    "                                                 linestyle = '--')\n",
    "\n",
    "plt.ylabel('Sharpe ratio')\n",
    "plt.legend(loc='best')\n",
    "plt.title('Rolling Sharpe ratio (6-month)')\n",
    "plt.show()\n",
    "\n",
    "print('---------------------------------------------------------------')\n",
    "print('In case you want to check the result data\\n')\n",
    "print(df.tail()) # I use tail, beacause of the size of your window."
   ]
  }
 ],
 "metadata": {
  "kernelspec": {
   "display_name": "Python 3 (ipykernel)",
   "language": "python",
   "name": "python3"
  },
  "language_info": {
   "codemirror_mode": {
    "name": "ipython",
    "version": 3
   },
   "file_extension": ".py",
   "mimetype": "text/x-python",
   "name": "python",
   "nbconvert_exporter": "python",
   "pygments_lexer": "ipython3",
   "version": "3.9.12"
  }
 },
 "nbformat": 4,
 "nbformat_minor": 5
}
